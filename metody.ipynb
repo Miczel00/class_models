{
 "cells": [
  {
   "attachments": {},
   "cell_type": "markdown",
   "metadata": {},
   "source": [
    "Importing the necessary libraries"
   ]
  },
  {
   "cell_type": "code",
   "execution_count": 53,
   "metadata": {},
   "outputs": [],
   "source": [
    "import pandas as pd \n",
    "from sklearn.svm import SVC\n",
    "import seaborn as sns\n",
    "from sklearn.metrics import accuracy_score, matthews_corrcoef\n",
    "import numpy as np\n",
    "from seaborn import scatterplot\n",
    "import matplotlib.pyplot as plt\n",
    "from sklearn.preprocessing import StandardScaler\n",
    "from sklearn.datasets import load_iris\n",
    "from sklearn.tree import DecisionTreeClassifier\n",
    "from sklearn.tree import export_graphviz\n",
    "import graphviz\n",
    "from sklearn.model_selection import GridSearchCV\n",
    "from sklearn.metrics import recall_score"
   ]
  },
  {
   "attachments": {},
   "cell_type": "markdown",
   "metadata": {},
   "source": [
    "Data preparation"
   ]
  },
  {
   "cell_type": "code",
   "execution_count": 54,
   "metadata": {},
   "outputs": [
    {
     "name": "stderr",
     "output_type": "stream",
     "text": [
      "C:\\Users\\Michał\\AppData\\Roaming\\Python\\Python39\\site-packages\\openpyxl\\worksheet\\_reader.py:312: UserWarning: Unknown extension is not supported and will be removed\n",
      "  warn(msg)\n"
     ]
    }
   ],
   "source": [
    "data = pd.read_excel('data.xlsx', sheet_name='Table S10',header=3)"
   ]
  },
  {
   "cell_type": "code",
   "execution_count": 55,
   "metadata": {},
   "outputs": [
    {
     "data": {
      "text/html": [
       "<div>\n",
       "<style scoped>\n",
       "    .dataframe tbody tr th:only-of-type {\n",
       "        vertical-align: middle;\n",
       "    }\n",
       "\n",
       "    .dataframe tbody tr th {\n",
       "        vertical-align: top;\n",
       "    }\n",
       "\n",
       "    .dataframe thead th {\n",
       "        text-align: right;\n",
       "    }\n",
       "</style>\n",
       "<table border=\"1\" class=\"dataframe\">\n",
       "  <thead>\n",
       "    <tr style=\"text-align: right;\">\n",
       "      <th></th>\n",
       "      <th>Unnamed: 0</th>\n",
       "      <th>ID</th>\n",
       "      <th>HCA Class</th>\n",
       "      <th>CAS No.</th>\n",
       "      <th>Chemical Name</th>\n",
       "      <th>Set*</th>\n",
       "      <th>Acute Toxicity Class [Observed]</th>\n",
       "      <th>Acute Toxicity Class [Predicted]</th>\n",
       "      <th>Score</th>\n",
       "      <th>MW</th>\n",
       "      <th>LUMO</th>\n",
       "      <th>Mv</th>\n",
       "      <th>Hy</th>\n",
       "      <th>MLOGP</th>\n",
       "      <th>SAacc</th>\n",
       "    </tr>\n",
       "  </thead>\n",
       "  <tbody>\n",
       "    <tr>\n",
       "      <th>0</th>\n",
       "      <td>NaN</td>\n",
       "      <td>ID-1</td>\n",
       "      <td>B</td>\n",
       "      <td>56235.0</td>\n",
       "      <td>Carbon tetrachloride</td>\n",
       "      <td>T</td>\n",
       "      <td>Highly toxic</td>\n",
       "      <td>Highly toxic</td>\n",
       "      <td>True</td>\n",
       "      <td>153.8230</td>\n",
       "      <td>-1.394</td>\n",
       "      <td>1.072720</td>\n",
       "      <td>-0.179649</td>\n",
       "      <td>2.226401</td>\n",
       "      <td>0.000000</td>\n",
       "    </tr>\n",
       "    <tr>\n",
       "      <th>1</th>\n",
       "      <td>NaN</td>\n",
       "      <td>ID-2</td>\n",
       "      <td>B</td>\n",
       "      <td>56371.0</td>\n",
       "      <td>Benzyltriethylammonium chloride</td>\n",
       "      <td>T</td>\n",
       "      <td>Low to non-toxic</td>\n",
       "      <td>Low to non-toxic</td>\n",
       "      <td>True</td>\n",
       "      <td>227.7765</td>\n",
       "      <td>-0.899</td>\n",
       "      <td>0.543133</td>\n",
       "      <td>-0.904914</td>\n",
       "      <td>-0.294418</td>\n",
       "      <td>0.000000</td>\n",
       "    </tr>\n",
       "    <tr>\n",
       "      <th>2</th>\n",
       "      <td>NaN</td>\n",
       "      <td>ID-6</td>\n",
       "      <td>D</td>\n",
       "      <td>58902.0</td>\n",
       "      <td>2,3,4,6-Tetrachlorophenol</td>\n",
       "      <td>T</td>\n",
       "      <td>Highly toxic</td>\n",
       "      <td>Highly toxic</td>\n",
       "      <td>True</td>\n",
       "      <td>231.8932</td>\n",
       "      <td>-1.302</td>\n",
       "      <td>0.892708</td>\n",
       "      <td>0.056889</td>\n",
       "      <td>3.617261</td>\n",
       "      <td>42.683343</td>\n",
       "    </tr>\n",
       "    <tr>\n",
       "      <th>3</th>\n",
       "      <td>NaN</td>\n",
       "      <td>ID-7</td>\n",
       "      <td>A</td>\n",
       "      <td>60004.0</td>\n",
       "      <td>Ethylenediaminetetraacetic acid</td>\n",
       "      <td>T</td>\n",
       "      <td>Low to non-toxic</td>\n",
       "      <td>Low to non-toxic</td>\n",
       "      <td>True</td>\n",
       "      <td>292.2450</td>\n",
       "      <td>-0.074</td>\n",
       "      <td>0.595800</td>\n",
       "      <td>2.173950</td>\n",
       "      <td>-1.358423</td>\n",
       "      <td>277.561709</td>\n",
       "    </tr>\n",
       "    <tr>\n",
       "      <th>4</th>\n",
       "      <td>NaN</td>\n",
       "      <td>ID-8</td>\n",
       "      <td>C</td>\n",
       "      <td>60093.0</td>\n",
       "      <td>Aniline, p-(phenylazo)-</td>\n",
       "      <td>T</td>\n",
       "      <td>Highly toxic</td>\n",
       "      <td>Highly toxic</td>\n",
       "      <td>True</td>\n",
       "      <td>197.2390</td>\n",
       "      <td>-0.916</td>\n",
       "      <td>0.660438</td>\n",
       "      <td>0.430914</td>\n",
       "      <td>2.678616</td>\n",
       "      <td>66.223202</td>\n",
       "    </tr>\n",
       "    <tr>\n",
       "      <th>...</th>\n",
       "      <td>...</td>\n",
       "      <td>...</td>\n",
       "      <td>...</td>\n",
       "      <td>...</td>\n",
       "      <td>...</td>\n",
       "      <td>...</td>\n",
       "      <td>...</td>\n",
       "      <td>...</td>\n",
       "      <td>...</td>\n",
       "      <td>...</td>\n",
       "      <td>...</td>\n",
       "      <td>...</td>\n",
       "      <td>...</td>\n",
       "      <td>...</td>\n",
       "      <td>...</td>\n",
       "    </tr>\n",
       "    <tr>\n",
       "      <th>380</th>\n",
       "      <td>NaN</td>\n",
       "      <td>ID-491</td>\n",
       "      <td>A</td>\n",
       "      <td>27176870.0</td>\n",
       "      <td>Dodecylbenzenesulfonic acid</td>\n",
       "      <td>V</td>\n",
       "      <td>Highly toxic</td>\n",
       "      <td>Highly toxic</td>\n",
       "      <td>True</td>\n",
       "      <td>326.4932</td>\n",
       "      <td>-0.623</td>\n",
       "      <td>0.562183</td>\n",
       "      <td>-0.354405</td>\n",
       "      <td>5.320907</td>\n",
       "      <td>87.267778</td>\n",
       "    </tr>\n",
       "    <tr>\n",
       "      <th>381</th>\n",
       "      <td>NaN</td>\n",
       "      <td>ID-496</td>\n",
       "      <td>D</td>\n",
       "      <td>30171803.0</td>\n",
       "      <td>Dibromocresyl glycidyl ether</td>\n",
       "      <td>V</td>\n",
       "      <td>Highly toxic</td>\n",
       "      <td>Highly toxic</td>\n",
       "      <td>True</td>\n",
       "      <td>321.9958</td>\n",
       "      <td>-0.430</td>\n",
       "      <td>0.693367</td>\n",
       "      <td>-0.696088</td>\n",
       "      <td>2.920793</td>\n",
       "      <td>21.999776</td>\n",
       "    </tr>\n",
       "    <tr>\n",
       "      <th>382</th>\n",
       "      <td>NaN</td>\n",
       "      <td>ID-504</td>\n",
       "      <td>A</td>\n",
       "      <td>51218496.0</td>\n",
       "      <td>2-Chloro-2',6'-diethyl-N-(2-propoxyethyl)aceta...</td>\n",
       "      <td>V</td>\n",
       "      <td>Highly toxic</td>\n",
       "      <td>Highly toxic</td>\n",
       "      <td>True</td>\n",
       "      <td>311.8509</td>\n",
       "      <td>-0.187</td>\n",
       "      <td>0.577168</td>\n",
       "      <td>-0.797341</td>\n",
       "      <td>3.506542</td>\n",
       "      <td>39.269129</td>\n",
       "    </tr>\n",
       "    <tr>\n",
       "      <th>383</th>\n",
       "      <td>NaN</td>\n",
       "      <td>ID-509</td>\n",
       "      <td>A</td>\n",
       "      <td>68972963.0</td>\n",
       "      <td>cis-1,4-Dibenzyloxy-2-butene</td>\n",
       "      <td>V</td>\n",
       "      <td>Highly toxic</td>\n",
       "      <td>Highly toxic</td>\n",
       "      <td>True</td>\n",
       "      <td>268.3548</td>\n",
       "      <td>0.307</td>\n",
       "      <td>0.617440</td>\n",
       "      <td>-0.885577</td>\n",
       "      <td>3.420105</td>\n",
       "      <td>21.999776</td>\n",
       "    </tr>\n",
       "    <tr>\n",
       "      <th>384</th>\n",
       "      <td>NaN</td>\n",
       "      <td>* T stands for training set, V means validatio...</td>\n",
       "      <td>NaN</td>\n",
       "      <td>NaN</td>\n",
       "      <td>NaN</td>\n",
       "      <td>NaN</td>\n",
       "      <td>NaN</td>\n",
       "      <td>NaN</td>\n",
       "      <td>NaN</td>\n",
       "      <td>NaN</td>\n",
       "      <td>NaN</td>\n",
       "      <td>NaN</td>\n",
       "      <td>NaN</td>\n",
       "      <td>NaN</td>\n",
       "      <td>NaN</td>\n",
       "    </tr>\n",
       "  </tbody>\n",
       "</table>\n",
       "<p>385 rows × 15 columns</p>\n",
       "</div>"
      ],
      "text/plain": [
       "     Unnamed: 0                                                 ID HCA Class  \\\n",
       "0           NaN                                               ID-1         B   \n",
       "1           NaN                                               ID-2         B   \n",
       "2           NaN                                               ID-6         D   \n",
       "3           NaN                                               ID-7         A   \n",
       "4           NaN                                               ID-8         C   \n",
       "..          ...                                                ...       ...   \n",
       "380         NaN                                             ID-491         A   \n",
       "381         NaN                                             ID-496         D   \n",
       "382         NaN                                             ID-504         A   \n",
       "383         NaN                                             ID-509         A   \n",
       "384         NaN  * T stands for training set, V means validatio...       NaN   \n",
       "\n",
       "        CAS No.                                      Chemical Name Set*  \\\n",
       "0       56235.0                               Carbon tetrachloride    T   \n",
       "1       56371.0                    Benzyltriethylammonium chloride    T   \n",
       "2       58902.0                          2,3,4,6-Tetrachlorophenol    T   \n",
       "3       60004.0                    Ethylenediaminetetraacetic acid    T   \n",
       "4       60093.0                            Aniline, p-(phenylazo)-    T   \n",
       "..          ...                                                ...  ...   \n",
       "380  27176870.0                        Dodecylbenzenesulfonic acid    V   \n",
       "381  30171803.0                       Dibromocresyl glycidyl ether    V   \n",
       "382  51218496.0  2-Chloro-2',6'-diethyl-N-(2-propoxyethyl)aceta...    V   \n",
       "383  68972963.0                       cis-1,4-Dibenzyloxy-2-butene    V   \n",
       "384         NaN                                                NaN  NaN   \n",
       "\n",
       "    Acute Toxicity Class [Observed] Acute Toxicity Class [Predicted] Score  \\\n",
       "0                      Highly toxic                     Highly toxic  True   \n",
       "1                  Low to non-toxic                 Low to non-toxic  True   \n",
       "2                      Highly toxic                     Highly toxic  True   \n",
       "3                  Low to non-toxic                 Low to non-toxic  True   \n",
       "4                      Highly toxic                     Highly toxic  True   \n",
       "..                              ...                              ...   ...   \n",
       "380                    Highly toxic                     Highly toxic  True   \n",
       "381                    Highly toxic                     Highly toxic  True   \n",
       "382                    Highly toxic                     Highly toxic  True   \n",
       "383                    Highly toxic                     Highly toxic  True   \n",
       "384                             NaN                              NaN   NaN   \n",
       "\n",
       "           MW   LUMO        Mv        Hy     MLOGP       SAacc  \n",
       "0    153.8230 -1.394  1.072720 -0.179649  2.226401    0.000000  \n",
       "1    227.7765 -0.899  0.543133 -0.904914 -0.294418    0.000000  \n",
       "2    231.8932 -1.302  0.892708  0.056889  3.617261   42.683343  \n",
       "3    292.2450 -0.074  0.595800  2.173950 -1.358423  277.561709  \n",
       "4    197.2390 -0.916  0.660438  0.430914  2.678616   66.223202  \n",
       "..        ...    ...       ...       ...       ...         ...  \n",
       "380  326.4932 -0.623  0.562183 -0.354405  5.320907   87.267778  \n",
       "381  321.9958 -0.430  0.693367 -0.696088  2.920793   21.999776  \n",
       "382  311.8509 -0.187  0.577168 -0.797341  3.506542   39.269129  \n",
       "383  268.3548  0.307  0.617440 -0.885577  3.420105   21.999776  \n",
       "384       NaN    NaN       NaN       NaN       NaN         NaN  \n",
       "\n",
       "[385 rows x 15 columns]"
      ]
     },
     "execution_count": 55,
     "metadata": {},
     "output_type": "execute_result"
    }
   ],
   "source": [
    "data"
   ]
  },
  {
   "cell_type": "code",
   "execution_count": 56,
   "metadata": {},
   "outputs": [],
   "source": [
    "data['Acute Toxicity Class [Observed]'] = data['Acute Toxicity Class [Observed]'].replace('Highly toxic', 1)\n",
    "data['Acute Toxicity Class [Observed]'] = data['Acute Toxicity Class [Observed]'].replace('Low to non-toxic', 0)"
   ]
  },
  {
   "cell_type": "code",
   "execution_count": 57,
   "metadata": {},
   "outputs": [
    {
     "data": {
      "text/html": [
       "<div>\n",
       "<style scoped>\n",
       "    .dataframe tbody tr th:only-of-type {\n",
       "        vertical-align: middle;\n",
       "    }\n",
       "\n",
       "    .dataframe tbody tr th {\n",
       "        vertical-align: top;\n",
       "    }\n",
       "\n",
       "    .dataframe thead th {\n",
       "        text-align: right;\n",
       "    }\n",
       "</style>\n",
       "<table border=\"1\" class=\"dataframe\">\n",
       "  <thead>\n",
       "    <tr style=\"text-align: right;\">\n",
       "      <th></th>\n",
       "      <th>Unnamed: 0</th>\n",
       "      <th>ID</th>\n",
       "      <th>HCA Class</th>\n",
       "      <th>CAS No.</th>\n",
       "      <th>Chemical Name</th>\n",
       "      <th>Set*</th>\n",
       "      <th>Acute Toxicity Class [Observed]</th>\n",
       "      <th>Acute Toxicity Class [Predicted]</th>\n",
       "      <th>Score</th>\n",
       "      <th>MW</th>\n",
       "      <th>LUMO</th>\n",
       "      <th>Mv</th>\n",
       "      <th>Hy</th>\n",
       "      <th>MLOGP</th>\n",
       "      <th>SAacc</th>\n",
       "    </tr>\n",
       "  </thead>\n",
       "  <tbody>\n",
       "    <tr>\n",
       "      <th>0</th>\n",
       "      <td>NaN</td>\n",
       "      <td>ID-1</td>\n",
       "      <td>B</td>\n",
       "      <td>56235.0</td>\n",
       "      <td>Carbon tetrachloride</td>\n",
       "      <td>T</td>\n",
       "      <td>1.0</td>\n",
       "      <td>Highly toxic</td>\n",
       "      <td>True</td>\n",
       "      <td>153.8230</td>\n",
       "      <td>-1.394</td>\n",
       "      <td>1.072720</td>\n",
       "      <td>-0.179649</td>\n",
       "      <td>2.226401</td>\n",
       "      <td>0.000000</td>\n",
       "    </tr>\n",
       "    <tr>\n",
       "      <th>1</th>\n",
       "      <td>NaN</td>\n",
       "      <td>ID-2</td>\n",
       "      <td>B</td>\n",
       "      <td>56371.0</td>\n",
       "      <td>Benzyltriethylammonium chloride</td>\n",
       "      <td>T</td>\n",
       "      <td>0.0</td>\n",
       "      <td>Low to non-toxic</td>\n",
       "      <td>True</td>\n",
       "      <td>227.7765</td>\n",
       "      <td>-0.899</td>\n",
       "      <td>0.543133</td>\n",
       "      <td>-0.904914</td>\n",
       "      <td>-0.294418</td>\n",
       "      <td>0.000000</td>\n",
       "    </tr>\n",
       "    <tr>\n",
       "      <th>2</th>\n",
       "      <td>NaN</td>\n",
       "      <td>ID-6</td>\n",
       "      <td>D</td>\n",
       "      <td>58902.0</td>\n",
       "      <td>2,3,4,6-Tetrachlorophenol</td>\n",
       "      <td>T</td>\n",
       "      <td>1.0</td>\n",
       "      <td>Highly toxic</td>\n",
       "      <td>True</td>\n",
       "      <td>231.8932</td>\n",
       "      <td>-1.302</td>\n",
       "      <td>0.892708</td>\n",
       "      <td>0.056889</td>\n",
       "      <td>3.617261</td>\n",
       "      <td>42.683343</td>\n",
       "    </tr>\n",
       "    <tr>\n",
       "      <th>3</th>\n",
       "      <td>NaN</td>\n",
       "      <td>ID-7</td>\n",
       "      <td>A</td>\n",
       "      <td>60004.0</td>\n",
       "      <td>Ethylenediaminetetraacetic acid</td>\n",
       "      <td>T</td>\n",
       "      <td>0.0</td>\n",
       "      <td>Low to non-toxic</td>\n",
       "      <td>True</td>\n",
       "      <td>292.2450</td>\n",
       "      <td>-0.074</td>\n",
       "      <td>0.595800</td>\n",
       "      <td>2.173950</td>\n",
       "      <td>-1.358423</td>\n",
       "      <td>277.561709</td>\n",
       "    </tr>\n",
       "    <tr>\n",
       "      <th>4</th>\n",
       "      <td>NaN</td>\n",
       "      <td>ID-8</td>\n",
       "      <td>C</td>\n",
       "      <td>60093.0</td>\n",
       "      <td>Aniline, p-(phenylazo)-</td>\n",
       "      <td>T</td>\n",
       "      <td>1.0</td>\n",
       "      <td>Highly toxic</td>\n",
       "      <td>True</td>\n",
       "      <td>197.2390</td>\n",
       "      <td>-0.916</td>\n",
       "      <td>0.660438</td>\n",
       "      <td>0.430914</td>\n",
       "      <td>2.678616</td>\n",
       "      <td>66.223202</td>\n",
       "    </tr>\n",
       "    <tr>\n",
       "      <th>...</th>\n",
       "      <td>...</td>\n",
       "      <td>...</td>\n",
       "      <td>...</td>\n",
       "      <td>...</td>\n",
       "      <td>...</td>\n",
       "      <td>...</td>\n",
       "      <td>...</td>\n",
       "      <td>...</td>\n",
       "      <td>...</td>\n",
       "      <td>...</td>\n",
       "      <td>...</td>\n",
       "      <td>...</td>\n",
       "      <td>...</td>\n",
       "      <td>...</td>\n",
       "      <td>...</td>\n",
       "    </tr>\n",
       "    <tr>\n",
       "      <th>380</th>\n",
       "      <td>NaN</td>\n",
       "      <td>ID-491</td>\n",
       "      <td>A</td>\n",
       "      <td>27176870.0</td>\n",
       "      <td>Dodecylbenzenesulfonic acid</td>\n",
       "      <td>V</td>\n",
       "      <td>1.0</td>\n",
       "      <td>Highly toxic</td>\n",
       "      <td>True</td>\n",
       "      <td>326.4932</td>\n",
       "      <td>-0.623</td>\n",
       "      <td>0.562183</td>\n",
       "      <td>-0.354405</td>\n",
       "      <td>5.320907</td>\n",
       "      <td>87.267778</td>\n",
       "    </tr>\n",
       "    <tr>\n",
       "      <th>381</th>\n",
       "      <td>NaN</td>\n",
       "      <td>ID-496</td>\n",
       "      <td>D</td>\n",
       "      <td>30171803.0</td>\n",
       "      <td>Dibromocresyl glycidyl ether</td>\n",
       "      <td>V</td>\n",
       "      <td>1.0</td>\n",
       "      <td>Highly toxic</td>\n",
       "      <td>True</td>\n",
       "      <td>321.9958</td>\n",
       "      <td>-0.430</td>\n",
       "      <td>0.693367</td>\n",
       "      <td>-0.696088</td>\n",
       "      <td>2.920793</td>\n",
       "      <td>21.999776</td>\n",
       "    </tr>\n",
       "    <tr>\n",
       "      <th>382</th>\n",
       "      <td>NaN</td>\n",
       "      <td>ID-504</td>\n",
       "      <td>A</td>\n",
       "      <td>51218496.0</td>\n",
       "      <td>2-Chloro-2',6'-diethyl-N-(2-propoxyethyl)aceta...</td>\n",
       "      <td>V</td>\n",
       "      <td>1.0</td>\n",
       "      <td>Highly toxic</td>\n",
       "      <td>True</td>\n",
       "      <td>311.8509</td>\n",
       "      <td>-0.187</td>\n",
       "      <td>0.577168</td>\n",
       "      <td>-0.797341</td>\n",
       "      <td>3.506542</td>\n",
       "      <td>39.269129</td>\n",
       "    </tr>\n",
       "    <tr>\n",
       "      <th>383</th>\n",
       "      <td>NaN</td>\n",
       "      <td>ID-509</td>\n",
       "      <td>A</td>\n",
       "      <td>68972963.0</td>\n",
       "      <td>cis-1,4-Dibenzyloxy-2-butene</td>\n",
       "      <td>V</td>\n",
       "      <td>1.0</td>\n",
       "      <td>Highly toxic</td>\n",
       "      <td>True</td>\n",
       "      <td>268.3548</td>\n",
       "      <td>0.307</td>\n",
       "      <td>0.617440</td>\n",
       "      <td>-0.885577</td>\n",
       "      <td>3.420105</td>\n",
       "      <td>21.999776</td>\n",
       "    </tr>\n",
       "    <tr>\n",
       "      <th>384</th>\n",
       "      <td>NaN</td>\n",
       "      <td>* T stands for training set, V means validatio...</td>\n",
       "      <td>NaN</td>\n",
       "      <td>NaN</td>\n",
       "      <td>NaN</td>\n",
       "      <td>NaN</td>\n",
       "      <td>NaN</td>\n",
       "      <td>NaN</td>\n",
       "      <td>NaN</td>\n",
       "      <td>NaN</td>\n",
       "      <td>NaN</td>\n",
       "      <td>NaN</td>\n",
       "      <td>NaN</td>\n",
       "      <td>NaN</td>\n",
       "      <td>NaN</td>\n",
       "    </tr>\n",
       "  </tbody>\n",
       "</table>\n",
       "<p>385 rows × 15 columns</p>\n",
       "</div>"
      ],
      "text/plain": [
       "     Unnamed: 0                                                 ID HCA Class  \\\n",
       "0           NaN                                               ID-1         B   \n",
       "1           NaN                                               ID-2         B   \n",
       "2           NaN                                               ID-6         D   \n",
       "3           NaN                                               ID-7         A   \n",
       "4           NaN                                               ID-8         C   \n",
       "..          ...                                                ...       ...   \n",
       "380         NaN                                             ID-491         A   \n",
       "381         NaN                                             ID-496         D   \n",
       "382         NaN                                             ID-504         A   \n",
       "383         NaN                                             ID-509         A   \n",
       "384         NaN  * T stands for training set, V means validatio...       NaN   \n",
       "\n",
       "        CAS No.                                      Chemical Name Set*  \\\n",
       "0       56235.0                               Carbon tetrachloride    T   \n",
       "1       56371.0                    Benzyltriethylammonium chloride    T   \n",
       "2       58902.0                          2,3,4,6-Tetrachlorophenol    T   \n",
       "3       60004.0                    Ethylenediaminetetraacetic acid    T   \n",
       "4       60093.0                            Aniline, p-(phenylazo)-    T   \n",
       "..          ...                                                ...  ...   \n",
       "380  27176870.0                        Dodecylbenzenesulfonic acid    V   \n",
       "381  30171803.0                       Dibromocresyl glycidyl ether    V   \n",
       "382  51218496.0  2-Chloro-2',6'-diethyl-N-(2-propoxyethyl)aceta...    V   \n",
       "383  68972963.0                       cis-1,4-Dibenzyloxy-2-butene    V   \n",
       "384         NaN                                                NaN  NaN   \n",
       "\n",
       "     Acute Toxicity Class [Observed] Acute Toxicity Class [Predicted] Score  \\\n",
       "0                                1.0                     Highly toxic  True   \n",
       "1                                0.0                 Low to non-toxic  True   \n",
       "2                                1.0                     Highly toxic  True   \n",
       "3                                0.0                 Low to non-toxic  True   \n",
       "4                                1.0                     Highly toxic  True   \n",
       "..                               ...                              ...   ...   \n",
       "380                              1.0                     Highly toxic  True   \n",
       "381                              1.0                     Highly toxic  True   \n",
       "382                              1.0                     Highly toxic  True   \n",
       "383                              1.0                     Highly toxic  True   \n",
       "384                              NaN                              NaN   NaN   \n",
       "\n",
       "           MW   LUMO        Mv        Hy     MLOGP       SAacc  \n",
       "0    153.8230 -1.394  1.072720 -0.179649  2.226401    0.000000  \n",
       "1    227.7765 -0.899  0.543133 -0.904914 -0.294418    0.000000  \n",
       "2    231.8932 -1.302  0.892708  0.056889  3.617261   42.683343  \n",
       "3    292.2450 -0.074  0.595800  2.173950 -1.358423  277.561709  \n",
       "4    197.2390 -0.916  0.660438  0.430914  2.678616   66.223202  \n",
       "..        ...    ...       ...       ...       ...         ...  \n",
       "380  326.4932 -0.623  0.562183 -0.354405  5.320907   87.267778  \n",
       "381  321.9958 -0.430  0.693367 -0.696088  2.920793   21.999776  \n",
       "382  311.8509 -0.187  0.577168 -0.797341  3.506542   39.269129  \n",
       "383  268.3548  0.307  0.617440 -0.885577  3.420105   21.999776  \n",
       "384       NaN    NaN       NaN       NaN       NaN         NaN  \n",
       "\n",
       "[385 rows x 15 columns]"
      ]
     },
     "execution_count": 57,
     "metadata": {},
     "output_type": "execute_result"
    }
   ],
   "source": [
    "data"
   ]
  },
  {
   "cell_type": "code",
   "execution_count": 58,
   "metadata": {},
   "outputs": [],
   "source": [
    "train_data = data[data['Set*']=='T']\n",
    "test_data = data[data['Set*']=='V']"
   ]
  },
  {
   "cell_type": "code",
   "execution_count": 59,
   "metadata": {},
   "outputs": [],
   "source": [
    "x_train = train_data[['MW','LUMO','Mv','Hy','MLOGP','SAacc']]\n",
    "y_train = train_data['Acute Toxicity Class [Observed]']\n",
    "x_test = test_data[['MW','LUMO','Mv','Hy','MLOGP','SAacc']]\n",
    "y_test = test_data['Acute Toxicity Class [Observed]']\n"
   ]
  },
  {
   "cell_type": "code",
   "execution_count": 60,
   "metadata": {},
   "outputs": [],
   "source": [
    "scaler = StandardScaler()\n",
    "x_train = scaler.fit_transform(x_train)\n",
    "x_test = scaler.transform(x_test)"
   ]
  },
  {
   "attachments": {},
   "cell_type": "markdown",
   "metadata": {},
   "source": [
    "Model Building"
   ]
  },
  {
   "attachments": {},
   "cell_type": "markdown",
   "metadata": {},
   "source": [
    "SVM"
   ]
  },
  {
   "cell_type": "code",
   "execution_count": 61,
   "metadata": {},
   "outputs": [],
   "source": [
    "svc = SVC(kernel='rbf', gamma=0.1,C=40)\n",
    "svc.fit(x_train, y_train)\n",
    "y_pred_svm = svc.predict(x_test)\n",
    "y_pred_train_svm = svc.predict(x_train)"
   ]
  },
  {
   "cell_type": "code",
   "execution_count": 62,
   "metadata": {},
   "outputs": [
    {
     "name": "stdout",
     "output_type": "stream",
     "text": [
      "Best parameters: {'C': 40, 'gamma': 0.1, 'kernel': 'rbf'}\n"
     ]
    }
   ],
   "source": [
    "model = SVC()\n",
    "# Define a grid of parameters to search.\n",
    "param_grid = {\n",
    "'C': [0.1, 1, 10,20,30,40,50,60,70,80,90,100,200,300,400,500,600,700,800,900,1000],\n",
    "'kernel': ['linear', 'rbf'],\n",
    "'gamma': [0.1, 1, 10,15,20,25,30]\n",
    "}\n",
    "\n",
    "# Initialization of the GridSearchCV object.\n",
    "grid_search = GridSearchCV(estimator=model, param_grid=param_grid, scoring='accuracy', cv=10, n_jobs=-1)\n",
    "\n",
    "# Train the model on the training data.\n",
    "grid_search.fit(x_train, y_train)\n",
    "\n",
    "# Finding the optimal parameters.\n",
    "best_params = grid_search.best_params_\n",
    "print(\"Best parameters:\", best_params)\n",
    "\n",
    "# Evaluate model performance on test data.\n",
    "best_model = grid_search.best_estimator_\n",
    "y_pred = best_model.predict(x_test)"
   ]
  },
  {
   "cell_type": "code",
   "execution_count": 63,
   "metadata": {},
   "outputs": [
    {
     "data": {
      "image/png": "[encoded data removed]",
      "text/plain": [
       "<Figure size 640x480 with 2 Axes>"
      ]
     },
     "metadata": {},
     "output_type": "display_data"
    },
    {
     "name": "stdout",
     "output_type": "stream",
     "text": [
      "              precision    recall  f1-score   support\n",
      "\n",
      "         0.0       0.69      0.66      0.67        50\n",
      "         1.0       0.79      0.81      0.80        78\n",
      "\n",
      "    accuracy                           0.75       128\n",
      "   macro avg       0.74      0.73      0.74       128\n",
      "weighted avg       0.75      0.75      0.75       128\n",
      "\n"
     ]
    }
   ],
   "source": [
    "from sklearn.metrics import classification_report, confusion_matrix\n",
    "\n",
    "cm = confusion_matrix(y_test,y_pred_svm)\n",
    "sns.heatmap(cm, annot=True, fmt='d').set_title('Confusion matrix of SVM for validation data') \n",
    "plt.xlabel('Predictions')\n",
    "plt.ylabel('Observations')\n",
    "plt.show()\n",
    "print(classification_report(y_test,y_pred_svm))"
   ]
  },
  {
   "cell_type": "code",
   "execution_count": 64,
   "metadata": {},
   "outputs": [
    {
     "data": {
      "text/plain": [
       "0.66"
      ]
     },
     "execution_count": 64,
     "metadata": {},
     "output_type": "execute_result"
    }
   ],
   "source": [
    "recall_score(y_test, y_pred_svm, pos_label=0)"
   ]
  },
  {
   "cell_type": "code",
   "execution_count": 65,
   "metadata": {},
   "outputs": [
    {
     "name": "stdout",
     "output_type": "stream",
     "text": [
      "MCC value: 0.4713319914389921\n"
     ]
    }
   ],
   "source": [
    "mcc = matthews_corrcoef(y_test, y_pred_svm)\n",
    "print(\"MCC value:\", mcc)"
   ]
  },
  {
   "cell_type": "code",
   "execution_count": 66,
   "metadata": {},
   "outputs": [
    {
     "data": {
      "image/png": "[encoded data removed]",
      "text/plain": [
       "<Figure size 640x480 with 2 Axes>"
      ]
     },
     "metadata": {},
     "output_type": "display_data"
    },
    {
     "name": "stdout",
     "output_type": "stream",
     "text": [
      "              precision    recall  f1-score   support\n",
      "\n",
      "         0.0       0.88      0.82      0.85       102\n",
      "         1.0       0.89      0.93      0.91       154\n",
      "\n",
      "    accuracy                           0.89       256\n",
      "   macro avg       0.89      0.88      0.88       256\n",
      "weighted avg       0.89      0.89      0.89       256\n",
      "\n"
     ]
    }
   ],
   "source": [
    "from sklearn.metrics import classification_report, confusion_matrix\n",
    "\n",
    "cm = confusion_matrix(y_train,y_pred_train_svm)\n",
    "sns.heatmap(cm, annot=True, fmt='d').set_title('Confusion matrix of SVM for training data') \n",
    "plt.xlabel('Predictions')\n",
    "plt.ylabel('Observations')\n",
    "plt.show()\n",
    "print(classification_report(y_train,y_pred_train_svm))\n"
   ]
  },
  {
   "cell_type": "code",
   "execution_count": 67,
   "metadata": {},
   "outputs": [
    {
     "data": {
      "text/plain": [
       "0.8235294117647058"
      ]
     },
     "execution_count": 67,
     "metadata": {},
     "output_type": "execute_result"
    }
   ],
   "source": [
    "recall_score(y_train, y_pred_train_svm, pos_label=0)"
   ]
  },
  {
   "cell_type": "code",
   "execution_count": 68,
   "metadata": {},
   "outputs": [
    {
     "name": "stdout",
     "output_type": "stream",
     "text": [
      "MCC value: 0.7621874255324755\n"
     ]
    }
   ],
   "source": [
    "mcc = matthews_corrcoef(y_train, y_pred_train_svm)\n",
    "print(\"MCC value:\", mcc)"
   ]
  },
  {
   "attachments": {},
   "cell_type": "markdown",
   "metadata": {},
   "source": [
    "KNN"
   ]
  },
  {
   "cell_type": "code",
   "execution_count": 69,
   "metadata": {},
   "outputs": [
    {
     "data": {
      "image/png": "[encoded data removed]",
      "text/plain": [
       "<Figure size 640x480 with 1 Axes>"
      ]
     },
     "metadata": {},
     "output_type": "display_data"
    },
    {
     "name": "stdout",
     "output_type": "stream",
     "text": [
      "Optimal number of k: 32\n"
     ]
    }
   ],
   "source": [
    "from sklearn.neighbors import KNeighborsClassifier\n",
    "from sklearn.model_selection import train_test_split\n",
    "import numpy as np\n",
    "import matplotlib.pyplot as plt\n",
    "\n",
    "\n",
    "# List of different k values to test\n",
    "k_values = list(range(1, 50))\n",
    "\n",
    "# Initialize lists to store results\n",
    "train_scores = []\n",
    "test_scores = []\n",
    "\n",
    "# Calculation of results for different values of k\n",
    "for k in k_values:\n",
    "    # Initialization of k-NN classifier\n",
    "    knn = KNeighborsClassifier(n_neighbors=k)\n",
    "    \n",
    "    # Training the classifier\n",
    "    knn.fit(x_train, y_train)\n",
    "    \n",
    "    # Calculation of scores for training and test set\n",
    "    train_score = knn.score(x_train, y_train)\n",
    "    test_score = knn.score(x_test, y_test)\n",
    "    \n",
    "    # Adding scores to the lists\n",
    "    train_scores.append(train_score)\n",
    "    test_scores.append(test_score)\n",
    "\n",
    "# Plotting the validation curve\n",
    "plt.figure()\n",
    "plt.plot(k_values, train_scores, label='Training score', marker='o')\n",
    "plt.plot(k_values, test_scores, label='Test score', marker='o')\n",
    "plt.xlabel('Number of k')\n",
    "plt.ylabel('Score')\n",
    "plt.title('k-NN validation curve')\n",
    "plt.legend()\n",
    "plt.show()\n",
    "\n",
    "# Selection of optimal value of k based on test results\n",
    "optimal_k = k_values[np.argmax(test_scores)]\n",
    "print(\"Optimal number of k:\", optimal_k)"
   ]
  },
  {
   "cell_type": "code",
   "execution_count": 70,
   "metadata": {},
   "outputs": [
    {
     "name": "stdout",
     "output_type": "stream",
     "text": [
      "The optimal number of k nearest neighbors is: 32\n"
     ]
    }
   ],
   "source": [
    "print('The optimal number of k nearest neighbors is:', optimal_k)\n",
    "##From the graph, we can read the optimal value of k, \n",
    "#which corresponds to the highest test result. We use the function np.argmax(test_scores), \n",
    "# which returns the index of the maximum value in test_scores. We choose the value of k that corresponds to this index"
   ]
  },
  {
   "cell_type": "code",
   "execution_count": 71,
   "metadata": {},
   "outputs": [],
   "source": [
    "knn = KNeighborsClassifier(n_neighbors=32)\n",
    "knn.fit(x_train, y_train)\n",
    "y_pred_knn = knn.predict(x_test)\n",
    "y_pred_train_knn = knn.predict(x_train)"
   ]
  },
  {
   "cell_type": "code",
   "execution_count": 72,
   "metadata": {},
   "outputs": [
    {
     "name": "stdout",
     "output_type": "stream",
     "text": [
      "Best parameters: {'metric': 'manhattan', 'n_neighbors': 5, 'weights': 'distance'}\n"
     ]
    },
    {
     "name": "stderr",
     "output_type": "stream",
     "text": [
      "C:\\Users\\Michał\\AppData\\Roaming\\Python\\Python39\\site-packages\\sklearn\\model_selection\\_search.py:953: UserWarning: One or more of the test scores are non-finite: [0.68769231 0.68769231 0.63276923 0.68769231 0.68769231 0.71446154\n",
      " 0.70323077 0.71076923 0.67969231 0.71446154 0.71184615 0.70307692\n",
      " 0.71169231 0.71061538 0.71169231 0.70676923 0.72738462 0.71092308\n",
      " 0.71569231 0.71523077 0.71584615 0.71907692 0.69261538 0.70738462\n",
      " 0.68830769 0.71123077 0.67261538 0.69138462 0.66123077 0.67615385\n",
      " 0.66107692 0.66815385 0.65692308 0.66415385 0.64138462 0.672\n",
      " 0.65338462 0.68353846 0.64153846 0.67584615 0.62953846 0.676\n",
      " 0.64923077 0.67969231 0.63369231 0.67184615        nan        nan\n",
      " 0.62184615 0.66015385 0.62553846 0.65615385 0.70338462 0.70338462\n",
      " 0.62553846 0.70338462 0.69969231 0.71861538 0.69923077 0.71492308\n",
      " 0.71538462 0.73415385 0.69569231 0.69507692 0.72707692 0.70276923\n",
      " 0.71153846 0.71461538 0.71938462 0.70307692 0.71184615 0.70707692\n",
      " 0.69646154 0.70323077 0.67292308 0.69153846 0.67676923 0.70323077\n",
      " 0.65753846 0.684      0.64938462 0.672      0.64923077 0.66061538\n",
      " 0.65307692 0.66430769 0.62969231 0.67230769 0.62553846 0.66830769\n",
      " 0.618      0.65676923 0.61784615 0.65661538 0.62584615 0.65661538\n",
      " 0.61       0.66446154        nan        nan 0.59446154 0.66046154\n",
      " 0.61384615 0.64876923]\n",
      "  warnings.warn(\n"
     ]
    }
   ],
   "source": [
    "model = KNeighborsClassifier()\n",
    "# Define a grid of parameters to search.\n",
    "param_grid = {\n",
    "'n_neighbors': [1,2,3,4,5,8,10,12,14,16,18,20,22,25,28,30,32,34,36,38,40,42,44,446,48,50],\n",
    "'weights': ['uniform', 'distance'],\n",
    "'metric': ['euclidean', 'manhattan'],\n",
    "}\n",
    "# Initialize the GridSearchCV object.\n",
    "grid_search = GridSearchCV(estimator=model, param_grid=param_grid, scoring='accuracy', cv=10, n_jobs=-1)\n",
    "\n",
    "# Train the model on the training data.\n",
    "grid_search.fit(x_train, y_train)\n",
    "\n",
    "# Finding the optimal parameters.\n",
    "best_params = grid_search.best_params_\n",
    "print(\"Best parameters:\", best_params)\n",
    "\n",
    "# Evaluate model performance on test data.\n",
    "best_model = grid_search.best_estimator_\n",
    "y_pred = best_model.predict(x_test)"
   ]
  },
  {
   "cell_type": "code",
   "execution_count": 73,
   "metadata": {},
   "outputs": [
    {
     "data": {
      "image/png": "[encoded data removed]",
      "text/plain": [
       "<Figure size 640x480 with 2 Axes>"
      ]
     },
     "metadata": {},
     "output_type": "display_data"
    },
    {
     "name": "stdout",
     "output_type": "stream",
     "text": [
      "              precision    recall  f1-score   support\n",
      "\n",
      "         0.0       0.74      0.68      0.71        50\n",
      "         1.0       0.80      0.85      0.83        78\n",
      "\n",
      "    accuracy                           0.78       128\n",
      "   macro avg       0.77      0.76      0.77       128\n",
      "weighted avg       0.78      0.78      0.78       128\n",
      "\n"
     ]
    }
   ],
   "source": [
    "from sklearn.metrics import classification_report, confusion_matrix\n",
    "\n",
    "cm = confusion_matrix(y_test,y_pred_knn)\n",
    "sns.heatmap(cm, annot=True, fmt='d').set_title('Confusion matrix of KNN for validation data') \n",
    "plt.xlabel('Predykcje')\n",
    "plt.ylabel('Observations')\n",
    "plt.show()\n",
    "print(classification_report(y_test,y_pred_knn))"
   ]
  },
  {
   "cell_type": "code",
   "execution_count": 74,
   "metadata": {},
   "outputs": [
    {
     "data": {
      "text/plain": [
       "0.68"
      ]
     },
     "execution_count": 74,
     "metadata": {},
     "output_type": "execute_result"
    }
   ],
   "source": [
    "recall_score(y_test, y_pred_knn, pos_label=0)"
   ]
  },
  {
   "cell_type": "code",
   "execution_count": 75,
   "metadata": {},
   "outputs": [
    {
     "name": "stdout",
     "output_type": "stream",
     "text": [
      "MCC value: 0.5350066877778675\n"
     ]
    }
   ],
   "source": [
    "mcc = matthews_corrcoef(y_test, y_pred_knn)\n",
    "print(\"MCC value:\", mcc)"
   ]
  },
  {
   "cell_type": "code",
   "execution_count": 76,
   "metadata": {},
   "outputs": [
    {
     "data": {
      "image/png": "[encoded data removed]",
      "text/plain": [
       "<Figure size 640x480 with 2 Axes>"
      ]
     },
     "metadata": {},
     "output_type": "display_data"
    },
    {
     "name": "stdout",
     "output_type": "stream",
     "text": [
      "              precision    recall  f1-score   support\n",
      "\n",
      "         0.0       0.65      0.59      0.62       102\n",
      "         1.0       0.74      0.79      0.77       154\n",
      "\n",
      "    accuracy                           0.71       256\n",
      "   macro avg       0.70      0.69      0.69       256\n",
      "weighted avg       0.71      0.71      0.71       256\n",
      "\n"
     ]
    }
   ],
   "source": [
    "from sklearn.metrics import classification_report, confusion_matrix\n",
    "\n",
    "cm = confusion_matrix(y_train,y_pred_train_knn)\n",
    "sns.heatmap(cm, annot=True, fmt='d').set_title('Confusion matrix of KNN for training data') \n",
    "plt.xlabel('Predykcje')\n",
    "plt.ylabel('Observations')\n",
    "plt.show()\n",
    "print(classification_report(y_train,y_pred_train_knn))"
   ]
  },
  {
   "cell_type": "code",
   "execution_count": 77,
   "metadata": {},
   "outputs": [
    {
     "data": {
      "text/plain": [
       "0.5882352941176471"
      ]
     },
     "execution_count": 77,
     "metadata": {},
     "output_type": "execute_result"
    }
   ],
   "source": [
    "recall_score(y_train, y_pred_train_knn, pos_label=0)"
   ]
  },
  {
   "cell_type": "code",
   "execution_count": 78,
   "metadata": {},
   "outputs": [
    {
     "name": "stdout",
     "output_type": "stream",
     "text": [
      "MCC value: 0.38818102710104363\n"
     ]
    }
   ],
   "source": [
    "mcc = matthews_corrcoef(y_train, y_pred_train_knn)\n",
    "print(\"MCC value:\", mcc)"
   ]
  },
  {
   "attachments": {},
   "cell_type": "markdown",
   "metadata": {},
   "source": [
    "RANDOM FOREST"
   ]
  },
  {
   "cell_type": "code",
   "execution_count": 79,
   "metadata": {},
   "outputs": [],
   "source": [
    "from sklearn.ensemble import RandomForestClassifier\n",
    "from sklearn.tree import export_graphviz\n"
   ]
  },
  {
   "cell_type": "code",
   "execution_count": 80,
   "metadata": {},
   "outputs": [],
   "source": [
    "rf = RandomForestClassifier(max_depth= 7, min_samples_leaf= 1, min_samples_split= 10, n_estimators= 300,random_state=1)\n",
    "rf.fit(x_train, y_train)\n",
    "y_pred_rf = rf.predict(x_test)\n",
    "y_pred_train_rf = rf.predict(x_train)"
   ]
  },
  {
   "cell_type": "code",
   "execution_count": 81,
   "metadata": {},
   "outputs": [
    {
     "name": "stdout",
     "output_type": "stream",
     "text": [
      "Best parameters: {'max_depth': 9, 'min_samples_leaf': 2, 'min_samples_split': 2, 'n_estimators': 100}\n"
     ]
    }
   ],
   "source": [
    "model = RandomForestClassifier()\n",
    "# Define the grid of parameters to be searched\n",
    "param_grid = {\n",
    "    'n_estimators': [100, 200, 300],\n",
    "    'max_depth': [5, 6,7,8,9,10],\n",
    "    'min_samples_split': [2, 5, 10,15],\n",
    "    'min_samples_leaf': [1, 2,3, 5,7,9,10]\n",
    "}\n",
    "# Initialization of the GridSearchCV object\n",
    "grid_search = GridSearchCV(estimator=model, param_grid=param_grid, scoring='accuracy', cv=10, n_jobs=-1)\n",
    "\n",
    "# Train the model on the training data\n",
    "grid_search.fit(x_train, y_train)\n",
    "\n",
    "# Finding the optimal parameters\n",
    "best_params = grid_search.best_params_\n",
    "print(\"Best parameters:\", best_params)\n",
    "\n",
    "# Evaluate model performance on test data\n",
    "best_model = grid_search.best_estimator_\n",
    "y_pred = best_model.predict(x_test)"
   ]
  },
  {
   "cell_type": "code",
   "execution_count": 82,
   "metadata": {},
   "outputs": [
    {
     "data": {
      "image/png": "[encoded data removed]",
      "text/plain": [
       "<Figure size 640x480 with 2 Axes>"
      ]
     },
     "metadata": {},
     "output_type": "display_data"
    },
    {
     "name": "stdout",
     "output_type": "stream",
     "text": [
      "              precision    recall  f1-score   support\n",
      "\n",
      "         0.0       0.69      0.66      0.67        50\n",
      "         1.0       0.79      0.81      0.80        78\n",
      "\n",
      "    accuracy                           0.75       128\n",
      "   macro avg       0.74      0.73      0.74       128\n",
      "weighted avg       0.75      0.75      0.75       128\n",
      "\n"
     ]
    }
   ],
   "source": [
    "from sklearn.metrics import classification_report, confusion_matrix\n",
    "\n",
    "cm = confusion_matrix(y_test,y_pred_rf)\n",
    "sns.heatmap(cm, annot=True, fmt='d').set_title('Confusion matrix of Random Forest for validation data') \n",
    "plt.xlabel('Predictions')\n",
    "plt.ylabel('Observations')\n",
    "plt.show()\n",
    "print(classification_report(y_test,y_pred_rf))"
   ]
  },
  {
   "cell_type": "code",
   "execution_count": 83,
   "metadata": {},
   "outputs": [
    {
     "data": {
      "text/plain": [
       "0.66"
      ]
     },
     "execution_count": 83,
     "metadata": {},
     "output_type": "execute_result"
    }
   ],
   "source": [
    "recall_score(y_test, y_pred_rf, pos_label=0)"
   ]
  },
  {
   "cell_type": "code",
   "execution_count": 84,
   "metadata": {},
   "outputs": [
    {
     "name": "stdout",
     "output_type": "stream",
     "text": [
      "MCC value: 0.4713319914389921\n"
     ]
    }
   ],
   "source": [
    "mcc = matthews_corrcoef(y_test, y_pred_rf)\n",
    "print(\"MCC value:\", mcc)"
   ]
  },
  {
   "cell_type": "code",
   "execution_count": 85,
   "metadata": {},
   "outputs": [
    {
     "data": {
      "image/png": "[encoded data removed]",
      "text/plain": [
       "<Figure size 640x480 with 2 Axes>"
      ]
     },
     "metadata": {},
     "output_type": "display_data"
    },
    {
     "name": "stdout",
     "output_type": "stream",
     "text": [
      "              precision    recall  f1-score   support\n",
      "\n",
      "         0.0       0.90      0.93      0.92       102\n",
      "         1.0       0.95      0.94      0.94       154\n",
      "\n",
      "    accuracy                           0.93       256\n",
      "   macro avg       0.93      0.93      0.93       256\n",
      "weighted avg       0.93      0.93      0.93       256\n",
      "\n"
     ]
    }
   ],
   "source": [
    "from sklearn.metrics import classification_report, confusion_matrix\n",
    "\n",
    "cm = confusion_matrix(y_train,y_pred_train_rf)\n",
    "sns.heatmap(cm, annot=True, fmt='d').set_title('Confusion matrix of Random Forest for training data') \n",
    "plt.xlabel('Predictions')\n",
    "plt.ylabel('Observations')\n",
    "plt.show()\n",
    "print(classification_report(y_train,y_pred_train_rf))"
   ]
  },
  {
   "cell_type": "code",
   "execution_count": 86,
   "metadata": {},
   "outputs": [
    {
     "data": {
      "text/plain": [
       "0.9313725490196079"
      ]
     },
     "execution_count": 86,
     "metadata": {},
     "output_type": "execute_result"
    }
   ],
   "source": [
    "recall_score(y_train, y_pred_train_rf, pos_label=0)"
   ]
  },
  {
   "cell_type": "code",
   "execution_count": 87,
   "metadata": {},
   "outputs": [
    {
     "name": "stdout",
     "output_type": "stream",
     "text": [
      "MCC value: 0.8624115330711053\n"
     ]
    }
   ],
   "source": [
    "mcc = matthews_corrcoef(y_train, y_pred_train_rf)\n",
    "print(\"MCC value:\", mcc)"
   ]
  },
  {
   "attachments": {},
   "cell_type": "markdown",
   "metadata": {},
   "source": [
    "Data with predictions"
   ]
  },
  {
   "cell_type": "code",
   "execution_count": 88,
   "metadata": {},
   "outputs": [],
   "source": [
    "main_data = data[['Chemical Name', 'Set*', 'Acute Toxicity Class [Observed]','MW','LUMO', 'Mv', 'Hy', 'MLOGP','SAacc']]"
   ]
  },
  {
   "cell_type": "code",
   "execution_count": 89,
   "metadata": {},
   "outputs": [
    {
     "name": "stderr",
     "output_type": "stream",
     "text": [
      "C:\\Users\\Michał\\AppData\\Local\\Temp\\ipykernel_4172\\2418271303.py:2: SettingWithCopyWarning: \n",
      "A value is trying to be set on a copy of a slice from a DataFrame.\n",
      "Try using .loc[row_indexer,col_indexer] = value instead\n",
      "\n",
      "See the caveats in the documentation: https://pandas.pydata.org/pandas-docs/stable/user_guide/indexing.html#returning-a-view-versus-a-copy\n",
      "  main_data.loc[main_data['Set*'] == 'T', 'knn_predict'] = y_pred_train_knn\n",
      "C:\\Users\\Michał\\AppData\\Local\\Temp\\ipykernel_4172\\2418271303.py:3: SettingWithCopyWarning: \n",
      "A value is trying to be set on a copy of a slice from a DataFrame.\n",
      "Try using .loc[row_indexer,col_indexer] = value instead\n",
      "\n",
      "See the caveats in the documentation: https://pandas.pydata.org/pandas-docs/stable/user_guide/indexing.html#returning-a-view-versus-a-copy\n",
      "  main_data.loc[main_data['Set*'] == 'T', 'svm_predict'] = y_pred_train_svm\n",
      "C:\\Users\\Michał\\AppData\\Local\\Temp\\ipykernel_4172\\2418271303.py:4: SettingWithCopyWarning: \n",
      "A value is trying to be set on a copy of a slice from a DataFrame.\n",
      "Try using .loc[row_indexer,col_indexer] = value instead\n",
      "\n",
      "See the caveats in the documentation: https://pandas.pydata.org/pandas-docs/stable/user_guide/indexing.html#returning-a-view-versus-a-copy\n",
      "  main_data.loc[main_data['Set*'] == 'T', 'rf_predict'] = y_pred_train_rf\n"
     ]
    }
   ],
   "source": [
    "# Dodawanie predykcji dla danych treningowych\n",
    "main_data.loc[main_data['Set*'] == 'T', 'knn_predict'] = y_pred_train_knn\n",
    "main_data.loc[main_data['Set*'] == 'T', 'svm_predict'] = y_pred_train_svm\n",
    "main_data.loc[main_data['Set*'] == 'T', 'rf_predict'] = y_pred_train_rf\n",
    "\n",
    "# Dodawanie predykcji dla danych testowych\n",
    "main_data.loc[main_data['Set*'] == 'V', 'knn_predict'] = y_pred_knn\n",
    "main_data.loc[main_data['Set*'] == 'V', 'svm_predict'] = y_pred_svm\n",
    "main_data.loc[main_data['Set*'] == 'V', 'rf_predict'] = y_pred_rf\n"
   ]
  },
  {
   "cell_type": "code",
   "execution_count": 90,
   "metadata": {},
   "outputs": [
    {
     "data": {
      "text/html": [
       "<div>\n",
       "<style scoped>\n",
       "    .dataframe tbody tr th:only-of-type {\n",
       "        vertical-align: middle;\n",
       "    }\n",
       "\n",
       "    .dataframe tbody tr th {\n",
       "        vertical-align: top;\n",
       "    }\n",
       "\n",
       "    .dataframe thead th {\n",
       "        text-align: right;\n",
       "    }\n",
       "</style>\n",
       "<table border=\"1\" class=\"dataframe\">\n",
       "  <thead>\n",
       "    <tr style=\"text-align: right;\">\n",
       "      <th></th>\n",
       "      <th>Chemical Name</th>\n",
       "      <th>Set*</th>\n",
       "      <th>Acute Toxicity Class [Observed]</th>\n",
       "      <th>MW</th>\n",
       "      <th>LUMO</th>\n",
       "      <th>Mv</th>\n",
       "      <th>Hy</th>\n",
       "      <th>MLOGP</th>\n",
       "      <th>SAacc</th>\n",
       "      <th>knn_predict</th>\n",
       "      <th>svm_predict</th>\n",
       "      <th>rf_predict</th>\n",
       "    </tr>\n",
       "  </thead>\n",
       "  <tbody>\n",
       "    <tr>\n",
       "      <th>0</th>\n",
       "      <td>Carbon tetrachloride</td>\n",
       "      <td>T</td>\n",
       "      <td>1.0</td>\n",
       "      <td>153.8230</td>\n",
       "      <td>-1.394</td>\n",
       "      <td>1.072720</td>\n",
       "      <td>-0.179649</td>\n",
       "      <td>2.226401</td>\n",
       "      <td>0.000000</td>\n",
       "      <td>1.0</td>\n",
       "      <td>1.0</td>\n",
       "      <td>1.0</td>\n",
       "    </tr>\n",
       "    <tr>\n",
       "      <th>1</th>\n",
       "      <td>Benzyltriethylammonium chloride</td>\n",
       "      <td>T</td>\n",
       "      <td>0.0</td>\n",
       "      <td>227.7765</td>\n",
       "      <td>-0.899</td>\n",
       "      <td>0.543133</td>\n",
       "      <td>-0.904914</td>\n",
       "      <td>-0.294418</td>\n",
       "      <td>0.000000</td>\n",
       "      <td>1.0</td>\n",
       "      <td>0.0</td>\n",
       "      <td>0.0</td>\n",
       "    </tr>\n",
       "    <tr>\n",
       "      <th>2</th>\n",
       "      <td>2,3,4,6-Tetrachlorophenol</td>\n",
       "      <td>T</td>\n",
       "      <td>1.0</td>\n",
       "      <td>231.8932</td>\n",
       "      <td>-1.302</td>\n",
       "      <td>0.892708</td>\n",
       "      <td>0.056889</td>\n",
       "      <td>3.617261</td>\n",
       "      <td>42.683343</td>\n",
       "      <td>1.0</td>\n",
       "      <td>1.0</td>\n",
       "      <td>1.0</td>\n",
       "    </tr>\n",
       "    <tr>\n",
       "      <th>3</th>\n",
       "      <td>Ethylenediaminetetraacetic acid</td>\n",
       "      <td>T</td>\n",
       "      <td>0.0</td>\n",
       "      <td>292.2450</td>\n",
       "      <td>-0.074</td>\n",
       "      <td>0.595800</td>\n",
       "      <td>2.173950</td>\n",
       "      <td>-1.358423</td>\n",
       "      <td>277.561709</td>\n",
       "      <td>0.0</td>\n",
       "      <td>0.0</td>\n",
       "      <td>0.0</td>\n",
       "    </tr>\n",
       "    <tr>\n",
       "      <th>4</th>\n",
       "      <td>Aniline, p-(phenylazo)-</td>\n",
       "      <td>T</td>\n",
       "      <td>1.0</td>\n",
       "      <td>197.2390</td>\n",
       "      <td>-0.916</td>\n",
       "      <td>0.660438</td>\n",
       "      <td>0.430914</td>\n",
       "      <td>2.678616</td>\n",
       "      <td>66.223202</td>\n",
       "      <td>0.0</td>\n",
       "      <td>1.0</td>\n",
       "      <td>1.0</td>\n",
       "    </tr>\n",
       "    <tr>\n",
       "      <th>...</th>\n",
       "      <td>...</td>\n",
       "      <td>...</td>\n",
       "      <td>...</td>\n",
       "      <td>...</td>\n",
       "      <td>...</td>\n",
       "      <td>...</td>\n",
       "      <td>...</td>\n",
       "      <td>...</td>\n",
       "      <td>...</td>\n",
       "      <td>...</td>\n",
       "      <td>...</td>\n",
       "      <td>...</td>\n",
       "    </tr>\n",
       "    <tr>\n",
       "      <th>380</th>\n",
       "      <td>Dodecylbenzenesulfonic acid</td>\n",
       "      <td>V</td>\n",
       "      <td>1.0</td>\n",
       "      <td>326.4932</td>\n",
       "      <td>-0.623</td>\n",
       "      <td>0.562183</td>\n",
       "      <td>-0.354405</td>\n",
       "      <td>5.320907</td>\n",
       "      <td>87.267778</td>\n",
       "      <td>1.0</td>\n",
       "      <td>1.0</td>\n",
       "      <td>1.0</td>\n",
       "    </tr>\n",
       "    <tr>\n",
       "      <th>381</th>\n",
       "      <td>Dibromocresyl glycidyl ether</td>\n",
       "      <td>V</td>\n",
       "      <td>1.0</td>\n",
       "      <td>321.9958</td>\n",
       "      <td>-0.430</td>\n",
       "      <td>0.693367</td>\n",
       "      <td>-0.696088</td>\n",
       "      <td>2.920793</td>\n",
       "      <td>21.999776</td>\n",
       "      <td>1.0</td>\n",
       "      <td>1.0</td>\n",
       "      <td>1.0</td>\n",
       "    </tr>\n",
       "    <tr>\n",
       "      <th>382</th>\n",
       "      <td>2-Chloro-2',6'-diethyl-N-(2-propoxyethyl)aceta...</td>\n",
       "      <td>V</td>\n",
       "      <td>1.0</td>\n",
       "      <td>311.8509</td>\n",
       "      <td>-0.187</td>\n",
       "      <td>0.577168</td>\n",
       "      <td>-0.797341</td>\n",
       "      <td>3.506542</td>\n",
       "      <td>39.269129</td>\n",
       "      <td>1.0</td>\n",
       "      <td>1.0</td>\n",
       "      <td>1.0</td>\n",
       "    </tr>\n",
       "    <tr>\n",
       "      <th>383</th>\n",
       "      <td>cis-1,4-Dibenzyloxy-2-butene</td>\n",
       "      <td>V</td>\n",
       "      <td>1.0</td>\n",
       "      <td>268.3548</td>\n",
       "      <td>0.307</td>\n",
       "      <td>0.617440</td>\n",
       "      <td>-0.885577</td>\n",
       "      <td>3.420105</td>\n",
       "      <td>21.999776</td>\n",
       "      <td>1.0</td>\n",
       "      <td>1.0</td>\n",
       "      <td>1.0</td>\n",
       "    </tr>\n",
       "    <tr>\n",
       "      <th>384</th>\n",
       "      <td>NaN</td>\n",
       "      <td>NaN</td>\n",
       "      <td>NaN</td>\n",
       "      <td>NaN</td>\n",
       "      <td>NaN</td>\n",
       "      <td>NaN</td>\n",
       "      <td>NaN</td>\n",
       "      <td>NaN</td>\n",
       "      <td>NaN</td>\n",
       "      <td>NaN</td>\n",
       "      <td>NaN</td>\n",
       "      <td>NaN</td>\n",
       "    </tr>\n",
       "  </tbody>\n",
       "</table>\n",
       "<p>385 rows × 12 columns</p>\n",
       "</div>"
      ],
      "text/plain": [
       "                                         Chemical Name Set*  \\\n",
       "0                                 Carbon tetrachloride    T   \n",
       "1                      Benzyltriethylammonium chloride    T   \n",
       "2                            2,3,4,6-Tetrachlorophenol    T   \n",
       "3                      Ethylenediaminetetraacetic acid    T   \n",
       "4                              Aniline, p-(phenylazo)-    T   \n",
       "..                                                 ...  ...   \n",
       "380                        Dodecylbenzenesulfonic acid    V   \n",
       "381                       Dibromocresyl glycidyl ether    V   \n",
       "382  2-Chloro-2',6'-diethyl-N-(2-propoxyethyl)aceta...    V   \n",
       "383                       cis-1,4-Dibenzyloxy-2-butene    V   \n",
       "384                                                NaN  NaN   \n",
       "\n",
       "     Acute Toxicity Class [Observed]        MW   LUMO        Mv        Hy  \\\n",
       "0                                1.0  153.8230 -1.394  1.072720 -0.179649   \n",
       "1                                0.0  227.7765 -0.899  0.543133 -0.904914   \n",
       "2                                1.0  231.8932 -1.302  0.892708  0.056889   \n",
       "3                                0.0  292.2450 -0.074  0.595800  2.173950   \n",
       "4                                1.0  197.2390 -0.916  0.660438  0.430914   \n",
       "..                               ...       ...    ...       ...       ...   \n",
       "380                              1.0  326.4932 -0.623  0.562183 -0.354405   \n",
       "381                              1.0  321.9958 -0.430  0.693367 -0.696088   \n",
       "382                              1.0  311.8509 -0.187  0.577168 -0.797341   \n",
       "383                              1.0  268.3548  0.307  0.617440 -0.885577   \n",
       "384                              NaN       NaN    NaN       NaN       NaN   \n",
       "\n",
       "        MLOGP       SAacc  knn_predict  svm_predict  rf_predict  \n",
       "0    2.226401    0.000000          1.0          1.0         1.0  \n",
       "1   -0.294418    0.000000          1.0          0.0         0.0  \n",
       "2    3.617261   42.683343          1.0          1.0         1.0  \n",
       "3   -1.358423  277.561709          0.0          0.0         0.0  \n",
       "4    2.678616   66.223202          0.0          1.0         1.0  \n",
       "..        ...         ...          ...          ...         ...  \n",
       "380  5.320907   87.267778          1.0          1.0         1.0  \n",
       "381  2.920793   21.999776          1.0          1.0         1.0  \n",
       "382  3.506542   39.269129          1.0          1.0         1.0  \n",
       "383  3.420105   21.999776          1.0          1.0         1.0  \n",
       "384       NaN         NaN          NaN          NaN         NaN  \n",
       "\n",
       "[385 rows x 12 columns]"
      ]
     },
     "execution_count": 90,
     "metadata": {},
     "output_type": "execute_result"
    }
   ],
   "source": [
    "main_data"
   ]
  },
  {
   "cell_type": "code",
   "execution_count": 91,
   "metadata": {},
   "outputs": [],
   "source": [
    "#Save data with predictions to excel file\n",
    "main_data.to_excel('data_with_predictions.xlsx', index=False)"
   ]
  }
 ],
 "metadata": {
  "kernelspec": {
   "display_name": "Python 3",
   "language": "python",
   "name": "python3"
  },
  "language_info": {
   "codemirror_mode": {
    "name": "ipython",
    "version": 3
   },
   "file_extension": ".py",
   "mimetype": "text/x-python",
   "name": "python",
   "nbconvert_exporter": "python",
   "pygments_lexer": "ipython3",
   "version": "3.9.10"
  },
  "orig_nbformat": 4
 },
 "nbformat": 4,
 "nbformat_minor": 2
}
